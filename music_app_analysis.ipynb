{
  "cells": [
    {
      "cell_type": "markdown",
      "metadata": {},
      "source": [
        "# User music app behaivor\n",
        "\n",
        "Manuel Lagunas\n",
        "\n",
        "# Introducción\n",
        "\n",
        "En este proyecto, compara las preferencias musicales de las ciudades de\n",
        "Springfield y Shelbyville. Estudiando datos reales de transmisión de\n",
        "música online para probar las hipótesis a continuación plateadas y\n",
        "comparar el comportamiento de los usuarios y las usuarias de estas dos\n",
        "ciudades.\n",
        "\n",
        "## Objetivo\n",
        "\n",
        "Prueba tres hipótesis: - La actividad de los usuarios y las usuarias\n",
        "difiere según el día de la semana y dependiendo de la cuidad. - Los\n",
        "lunes por la mañana, los habitantes de Springfield y Shelbyville\n",
        "escuchan géneros distintos. Lo mismo ocurre con los viernes por la\n",
        "noche. - Los oyentes de Springfield y Shelbyville tienen preferencias\n",
        "distintas. En Springfield prefieren el pop, mientras que en Shelbyville\n",
        "hay más personas a las que les gusta el rap.\n",
        "\n",
        "## Etapas\n",
        "\n",
        "El proyecto consistirá en tres etapas: - Descripción de los datos -\n",
        "Preprocesamiento de datos - Prueba de hipótesis\n",
        "\n",
        "# Exploration data alalysis\n",
        "\n",
        "## Librerias"
      ],
      "id": "741eaed8-c906-49b1-80e0-983498cc85cb"
    },
    {
      "cell_type": "code",
      "execution_count": 1,
      "metadata": {},
      "outputs": [],
      "source": [
        "import pandas as pd"
      ],
      "id": "44928254"
    },
    {
      "cell_type": "markdown",
      "metadata": {},
      "source": [
        "## Lectura de datos"
      ],
      "id": "9238fa58-7a48-4e26-9a85-c1f9e35b6857"
    },
    {
      "cell_type": "code",
      "execution_count": 2,
      "metadata": {},
      "outputs": [],
      "source": [
        "df_raw = pd.read_csv(\"files/datasets/input/music_project_en.csv\")"
      ],
      "id": "2b6f8b25"
    },
    {
      "cell_type": "markdown",
      "metadata": {},
      "source": [
        "## Exploración de datos"
      ],
      "id": "40e08d82-d89a-44d0-82f0-4668e44d67db"
    },
    {
      "cell_type": "code",
      "execution_count": 3,
      "metadata": {},
      "outputs": [
        {
          "output_type": "stream",
          "name": "stdout",
          "text": [
            "         userID              Track          artist        genre       City    \\\n",
            "48961  45E559AF       Shadows Fall   Random Forest         rock  Springfield   \n",
            "32080  41291A07        Minor Swing  Bireli Lagrene         jazz  Shelbyville   \n",
            "61483  804C8C3A     Sexy Sexy 2008             NaN       ruspop  Springfield   \n",
            "44004  7A24F67C            So Fine            Pomo        dance  Shelbyville   \n",
            "18798  4FE34862         Slow Coach     Alan Barnes         jazz  Springfield   \n",
            "33831  B6B9DB52          Euthenics      Modern Eon         rock  Springfield   \n",
            "41855  20D9DAA6       Comfort Zone       Beardfish  progressive  Springfield   \n",
            "35735  7FF8B075             Unique     Headhunterz        dance  Springfield   \n",
            "64117   1DEA9D7  Ain't No Sunshine           Gushi        dance  Springfield   \n",
            "14546  BA54E752       Till The End         D-SENSE  alternative  Springfield   \n",
            "\n",
            "           time        Day  \n",
            "48961  20:25:01  Wednesday  \n",
            "32080  14:16:18     Friday  \n",
            "61483  09:42:31     Monday  \n",
            "44004  14:11:59     Monday  \n",
            "18798  14:56:02     Monday  \n",
            "33831  13:39:37     Monday  \n",
            "41855  14:15:26     Monday  \n",
            "35735  13:46:42  Wednesday  \n",
            "64117  09:43:22  Wednesday  \n",
            "14546  20:03:22  Wednesday  \n",
            "\n",
            "(65079, 7)\n",
            "\n",
            "<class 'pandas.core.frame.DataFrame'>\n",
            "RangeIndex: 65079 entries, 0 to 65078\n",
            "Data columns (total 7 columns):\n",
            " #   Column    Non-Null Count  Dtype \n",
            "---  ------    --------------  ----- \n",
            " 0     userID  65079 non-null  object\n",
            " 1   Track     63736 non-null  object\n",
            " 2   artist    57512 non-null  object\n",
            " 3   genre     63881 non-null  object\n",
            " 4     City    65079 non-null  object\n",
            " 5   time      65079 non-null  object\n",
            " 6   Day       65079 non-null  object\n",
            "dtypes: object(7)\n",
            "memory usage: 3.5+ MB\n",
            "None\n",
            "\n",
            "          userID  Track     artist  genre       City        time     Day\n",
            "count      65079  63736      57512  63881        65079     65079   65079\n",
            "unique     41748  39666      37806    268            2     20392       3\n",
            "top     A8AE9169  Brand  Kartvelli    pop  Springfield  08:14:07  Friday\n",
            "freq          76    136        136   8850        45360        14   23149"
          ]
        }
      ],
      "source": [
        "# Basic exploration\n",
        "print(df_raw.sample(10))\n",
        "print()\n",
        "print(df_raw.shape)\n",
        "print()\n",
        "print(df_raw.info())\n",
        "print()\n",
        "print(df_raw.describe())"
      ],
      "id": "3df01e0b"
    },
    {
      "cell_type": "code",
      "execution_count": 4,
      "metadata": {},
      "outputs": [
        {
          "output_type": "stream",
          "name": "stdout",
          "text": [
            "  userID       0\n",
            "Track       1343\n",
            "artist      7567\n",
            "genre       1198\n",
            "  City         0\n",
            "time           0\n",
            "Day            0\n",
            "dtype: int64\n",
            "\n",
            "  userID     0.000000\n",
            "Track        2.063646\n",
            "artist      11.627407\n",
            "genre        1.840840\n",
            "  City       0.000000\n",
            "time         0.000000\n",
            "Day          0.000000\n",
            "dtype: float64"
          ]
        }
      ],
      "source": [
        "# Null values\n",
        "print(df_raw.isnull().sum())\n",
        "print()\n",
        "print((df_raw.isnull().sum() / len(df_raw)) * 100)"
      ],
      "id": "2ac84525"
    },
    {
      "cell_type": "code",
      "execution_count": 5,
      "metadata": {},
      "outputs": [
        {
          "output_type": "display_data",
          "metadata": {},
          "data": {
            "text/plain": [
              "3826"
            ]
          }
        }
      ],
      "source": [
        "# duplicate values\n",
        "df_raw.duplicated().sum()"
      ],
      "id": "235556d0"
    },
    {
      "cell_type": "markdown",
      "metadata": {},
      "source": [
        "## Conclusiones\n",
        "\n",
        "-   Podemos ver tres problemas con el estilo en los encabezados de la\n",
        "    tabla:\n",
        "\n",
        "    -   Algunos encabezados están en mayúsculas, otros, en minúsculas.\n",
        "    -   Hay espacios en algunos encabezados.\n",
        "    -   Algunos nombres no son descriptivos al contenido de los datos.\n",
        "\n",
        "-   Las filas describen las canciones que una determinada usuaria o\n",
        "    usuario escuchó durante un día y hora especifico. Entender lo que\n",
        "    almacenan las columnas, es posible mediante el estudio de las celdas\n",
        "    de las columnas, de surguir alguna duda, seria importante platicar\n",
        "    con quien estuvo recopilando los datos o consultar alguna\n",
        "    documentación que exista al respecto\n",
        "\n",
        "-   Contamos con los datos suficientes para probar la hipótesis: La\n",
        "    primera hipótesis podria ser contestada con las columnas userID,\n",
        "    City y Day La segunda hipótesis podria ser contestada con las\n",
        "    columnas City, genre, time y Day La tercera hipóteis podria ser\n",
        "    contestada con las columnas City y genre Por tanto Se considera que\n",
        "    es posible confirmar y rechazar las hipótesis con los datos\n",
        "    disponibles\n",
        "\n",
        "-   La información general del Dataframe indica que existen valores\n",
        "    ausentes en los datos, los duplicados no son perseptibles en las\n",
        "    primeras díes filas del Datafreme, sin embargo se debe de realizar\n",
        "    un analisis para poder detectar alguno. Todos los datos son de tipo\n",
        "    object\n",
        "\n",
        "-   No todos los valores ausentes afectan a la investigación. Por\n",
        "    ejemplo, los valores ausentes en track y artist no son cruciales.\n",
        "    Simplemente se pueden reemplazar con valores predeterminados como el\n",
        "    string ‘unknown’ (desconocido). Pero los valores ausentes en ‘genre’\n",
        "    pueden afectar la comparación entre las preferencias musicales de\n",
        "    Springfield y Shelbyville. En la vida real, sería útil saber las\n",
        "    razones por las cuales hay datos ausentes e intentar recuperarlos.\n",
        "    Pero no tenemos esa oportunidad en este proyecto por lo que tambien\n",
        "    los valores ausentes serán sustituidos por el string ‘unknown’\n",
        "\n",
        "-   Despues de eliminar los datos duplicados explicitos se debe realizar\n",
        "    un estudio para saber si existe algun duplicado implicito\n",
        "\n",
        "# Preprocesamiento de datos"
      ],
      "id": "1389293d-165d-4b19-a802-33aaaf87c9b9"
    },
    {
      "cell_type": "code",
      "execution_count": 6,
      "metadata": {},
      "outputs": [
        {
          "output_type": "stream",
          "name": "stdout",
          "text": [
            "Index(['  userID', 'Track', 'artist', 'genre', '  City  ', 'time', 'Day'], dtype='object')\n",
            "Index(['userid', 'track', 'artist', 'genre', 'city', 'time', 'day'], dtype='object')"
          ]
        }
      ],
      "source": [
        "# Columns name\n",
        "print(df_raw.columns)\n",
        "\n",
        "def convert_to_snake_case(df):\n",
        "    df.columns = df.columns.str.strip().str.replace(' ', '_').str.replace('(', '').str.replace(')', '').str.replace('-', '_').str.lower()\n",
        "    return df\n",
        "\n",
        "df = convert_to_snake_case(df_raw)\n",
        "\n",
        "print(df.columns)"
      ],
      "id": "52b91c2e"
    },
    {
      "cell_type": "code",
      "execution_count": 7,
      "metadata": {},
      "outputs": [
        {
          "output_type": "stream",
          "name": "stdout",
          "text": [
            "userid    0\n",
            "track     0\n",
            "artist    0\n",
            "genre     0\n",
            "city      0\n",
            "time      0\n",
            "day       0\n",
            "dtype: int64"
          ]
        }
      ],
      "source": [
        "# Fixing null values\n",
        "df[['track', 'artist', 'genre']] = df[['track', 'artist', 'genre']].fillna('unknown') \n",
        "\n",
        "print(df.isna().sum())"
      ],
      "id": "b93483b5"
    },
    {
      "cell_type": "code",
      "execution_count": 8,
      "metadata": {},
      "outputs": [
        {
          "output_type": "stream",
          "name": "stdout",
          "text": [
            "0"
          ]
        }
      ],
      "source": [
        "# Duplicated data\n",
        "df=df.drop_duplicates().reset_index(drop=True)\n",
        "print(df.duplicated().sum())"
      ],
      "id": "b27ec843"
    },
    {
      "cell_type": "code",
      "execution_count": 9,
      "metadata": {},
      "outputs": [
        {
          "output_type": "stream",
          "name": "stdout",
          "text": [
            "['acid', 'acoustic', 'action', 'adult', 'africa', 'afrikaans', 'alternative', 'ambient', 'americana', 'animated', 'anime', 'arabesk', 'arabic', 'arena', 'argentinetango', 'art', 'audiobook', 'avantgarde', 'axé', 'baile', 'balkan', 'beats', 'bigroom', 'black', 'bluegrass', 'blues', 'bollywood', 'bossa', 'brazilian', 'breakbeat', 'breaks', 'broadway', 'cantautori', 'cantopop', 'canzone', 'caribbean', 'caucasian', 'celtic', 'chamber', 'children', 'chill', 'chinese', 'choral', 'christian', 'christmas', 'classical', 'classicmetal', 'club', 'colombian', 'comedy', 'conjazz', 'contemporary', 'country', 'cuban', 'dance', 'dancehall', 'dancepop', 'dark', 'death', 'deep', 'deutschrock', 'deutschspr', 'dirty', 'disco', 'dnb', 'documentary', 'downbeat', 'downtempo', 'drum', 'dub', 'dubstep', 'eastern', 'easy', 'electronic', 'electropop', 'emo', 'entehno', 'epicmetal', 'estrada', 'ethnic', 'eurofolk', 'european', 'experimental', 'extrememetal', 'fado', 'film', 'fitness', 'flamenco', 'folk', 'folklore', 'folkmetal', 'folkrock', 'folktronica', 'forró', 'frankreich', 'französisch', 'french', 'funk', 'future', 'gangsta', 'garage', 'german', 'ghazal', 'gitarre', 'glitch', 'gospel', 'gothic', 'grime', 'grunge', 'gypsy', 'handsup', \"hard'n'heavy\", 'hardcore', 'hardstyle', 'hardtechno', 'hip', 'hip-hop', 'hiphop', 'historisch', 'holiday', 'hop', 'horror', 'house', 'idm', 'independent', 'indian', 'indie', 'indipop', 'industrial', 'inspirational', 'instrumental', 'international', 'irish', 'jam', 'japanese', 'jazz', 'jewish', 'jpop', 'jungle', 'k-pop', 'karadeniz', 'karaoke', 'kayokyoku', 'korean', 'laiko', 'latin', 'latino', 'leftfield', 'local', 'lounge', 'loungeelectronic', 'lovers', 'malaysian', 'mandopop', 'marschmusik', 'meditative', 'mediterranean', 'melodic', 'metal', 'metalcore', 'mexican', 'middle', 'minimal', 'miscellaneous', 'modern', 'mood', 'mpb', 'muslim', 'native', 'neoklassik', 'neue', 'new', 'newage', 'newwave', 'nu', 'nujazz', 'numetal', 'oceania', 'old', 'opera', 'orchestral', 'other', 'piano', 'pop', 'popelectronic', 'popeurodance', 'post', 'posthardcore', 'postrock', 'power', 'progmetal', 'progressive', 'psychedelic', 'punjabi', 'punk', 'quebecois', 'ragga', 'ram', 'rancheras', 'rap', 'rave', 'reggae', 'reggaeton', 'regional', 'relax', 'religious', 'retro', 'rhythm', 'rnb', 'rnr', 'rock', 'rockabilly', 'romance', 'roots', 'ruspop', 'rusrap', 'rusrock', 'salsa', 'samba', 'schlager', 'self', 'sertanejo', 'shoegazing', 'showtunes', 'singer', 'ska', 'slow', 'smooth', 'soul', 'soulful', 'sound', 'soundtrack', 'southern', 'specialty', 'speech', 'spiritual', 'sport', 'stonerrock', 'surf', 'swing', 'synthpop', 'sängerportrait', 'tango', 'tanzorchester', 'taraftar', 'tech', 'techno', 'thrash', 'top', 'traditional', 'tradjazz', 'trance', 'tribal', 'trip', 'triphop', 'tropical', 'türk', 'türkçe', 'unknown', 'urban', 'uzbek', 'variété', 'vi', 'videogame', 'vocal', 'western', 'world', 'worldbeat', 'ïîï']"
          ]
        }
      ],
      "source": [
        "# Non explicit duplicated data\n",
        "print(sorted(df['genre'].unique()))"
      ],
      "id": "622e49c2"
    },
    {
      "cell_type": "markdown",
      "metadata": {},
      "source": [
        "## Conclusión\n",
        "\n",
        "Se observan los siguientes duplicados implícitos: - hip - hop - hip-hop\n",
        "Se cambiaran por el nombre hip-hop"
      ],
      "id": "fdadd4cf-a5df-44cd-991e-f722dc34d3c4"
    },
    {
      "cell_type": "code",
      "execution_count": 10,
      "metadata": {},
      "outputs": [
        {
          "output_type": "stream",
          "name": "stdout",
          "text": [
            "['acid', 'acoustic', 'action', 'adult', 'africa', 'afrikaans', 'alternative', 'ambient', 'americana', 'animated', 'anime', 'arabesk', 'arabic', 'arena', 'argentinetango', 'art', 'audiobook', 'avantgarde', 'axé', 'baile', 'balkan', 'beats', 'bigroom', 'black', 'bluegrass', 'blues', 'bollywood', 'bossa', 'brazilian', 'breakbeat', 'breaks', 'broadway', 'cantautori', 'cantopop', 'canzone', 'caribbean', 'caucasian', 'celtic', 'chamber', 'children', 'chill', 'chinese', 'choral', 'christian', 'christmas', 'classical', 'classicmetal', 'club', 'colombian', 'comedy', 'conjazz', 'contemporary', 'country', 'cuban', 'dance', 'dancehall', 'dancepop', 'dark', 'death', 'deep', 'deutschrock', 'deutschspr', 'dirty', 'disco', 'dnb', 'documentary', 'downbeat', 'downtempo', 'drum', 'dub', 'dubstep', 'eastern', 'easy', 'electronic', 'electropop', 'emo', 'entehno', 'epicmetal', 'estrada', 'ethnic', 'eurofolk', 'european', 'experimental', 'extrememetal', 'fado', 'film', 'fitness', 'flamenco', 'folk', 'folklore', 'folkmetal', 'folkrock', 'folktronica', 'forró', 'frankreich', 'französisch', 'french', 'funk', 'future', 'gangsta', 'garage', 'german', 'ghazal', 'gitarre', 'glitch', 'gospel', 'gothic', 'grime', 'grunge', 'gypsy', 'handsup', \"hard'n'heavy\", 'hardcore', 'hardstyle', 'hardtechno', 'hiphop', 'historisch', 'holiday', 'horror', 'house', 'idm', 'independent', 'indian', 'indie', 'indipop', 'industrial', 'inspirational', 'instrumental', 'international', 'irish', 'jam', 'japanese', 'jazz', 'jewish', 'jpop', 'jungle', 'k-pop', 'karadeniz', 'karaoke', 'kayokyoku', 'korean', 'laiko', 'latin', 'latino', 'leftfield', 'local', 'lounge', 'loungeelectronic', 'lovers', 'malaysian', 'mandopop', 'marschmusik', 'meditative', 'mediterranean', 'melodic', 'metal', 'metalcore', 'mexican', 'middle', 'minimal', 'miscellaneous', 'modern', 'mood', 'mpb', 'muslim', 'native', 'neoklassik', 'neue', 'new', 'newage', 'newwave', 'nu', 'nujazz', 'numetal', 'oceania', 'old', 'opera', 'orchestral', 'other', 'piano', 'pop', 'popelectronic', 'popeurodance', 'post', 'posthardcore', 'postrock', 'power', 'progmetal', 'progressive', 'psychedelic', 'punjabi', 'punk', 'quebecois', 'ragga', 'ram', 'rancheras', 'rap', 'rave', 'reggae', 'reggaeton', 'regional', 'relax', 'religious', 'retro', 'rhythm', 'rnb', 'rnr', 'rock', 'rockabilly', 'romance', 'roots', 'ruspop', 'rusrap', 'rusrock', 'salsa', 'samba', 'schlager', 'self', 'sertanejo', 'shoegazing', 'showtunes', 'singer', 'ska', 'slow', 'smooth', 'soul', 'soulful', 'sound', 'soundtrack', 'southern', 'specialty', 'speech', 'spiritual', 'sport', 'stonerrock', 'surf', 'swing', 'synthpop', 'sängerportrait', 'tango', 'tanzorchester', 'taraftar', 'tech', 'techno', 'thrash', 'top', 'traditional', 'tradjazz', 'trance', 'tribal', 'trip', 'triphop', 'tropical', 'türk', 'türkçe', 'unknown', 'urban', 'uzbek', 'variété', 'vi', 'videogame', 'vocal', 'western', 'world', 'worldbeat', 'ïîï']"
          ]
        }
      ],
      "source": [
        "df['genre'] = df['genre'].replace(['hip', 'hop', 'hip-hop'], 'hiphop')\n",
        "print(sorted(df['genre'].unique()))"
      ],
      "id": "9a65ec24"
    },
    {
      "cell_type": "markdown",
      "metadata": {},
      "source": [
        "## Conclusiones de la etapa\n",
        "\n",
        "-   Se solucionaron los problemas detectados en el apartado de\n",
        "    descripción de los datos\n",
        "-   En cuanto al estudio de duplicados implicitos. Se pasaron de 269\n",
        "    valores unicos en la columna ‘genre’, a 266. Indicador de que se\n",
        "    logro depurar los valores duplicados implícitos de los valores\n",
        "    unicos de ‘genre’.\n",
        "\n",
        "# Prueba de hipotesis\n",
        "\n",
        "## Primera hipotesis\n",
        "\n",
        "La primera hipótesis afirma que existen diferencias en la forma en que\n",
        "los usuarios y las usuarias de Springfield y Shelbyville consumen\n",
        "música. Para comprobar esto, usa los datos de tres días de la semana:\n",
        "lunes, miércoles y viernes."
      ],
      "id": "81486437-5fb4-4c48-8c20-9959769e75be"
    },
    {
      "cell_type": "code",
      "execution_count": 11,
      "metadata": {},
      "outputs": [
        {
          "output_type": "stream",
          "name": "stdout",
          "text": [
            "city\n",
            "Shelbyville    18512\n",
            "Springfield    42741\n",
            "Name: track, dtype: int64"
          ]
        }
      ],
      "source": [
        "#  plays by city\n",
        "group_by_city_tracknumbers=df.groupby(by='city')['track'].count()\n",
        "print(group_by_city_tracknumbers)"
      ],
      "id": "299ea64c"
    },
    {
      "cell_type": "markdown",
      "metadata": {},
      "source": [
        "### Observación\n",
        "\n",
        "La ciudad de Sprinfield escucha mas del doble de canciones que la ciudad\n",
        "de Shelbyville"
      ],
      "id": "106c711e-100d-46c8-94e4-3666acda6228"
    },
    {
      "cell_type": "code",
      "execution_count": 12,
      "metadata": {},
      "outputs": [
        {
          "output_type": "stream",
          "name": "stdout",
          "text": [
            "day\n",
            "Friday       21840\n",
            "Monday       21354\n",
            "Wednesday    18059\n",
            "Name: track, dtype: int64"
          ]
        }
      ],
      "source": [
        "# plays by day of the week\n",
        "group_by_day_tracknumbers=df.groupby(by='day')['track'].count()\n",
        "print(group_by_day_tracknumbers)"
      ],
      "id": "ad820fde"
    },
    {
      "cell_type": "markdown",
      "metadata": {},
      "source": [
        "### Observación\n",
        "\n",
        "Los días lunes y viernes se escuchan casi el mismo número de canciones\n",
        "presentando una baja en la escucha el día miercoles"
      ],
      "id": "79c6924c-5945-42ac-9382-eced8e3271ec"
    },
    {
      "cell_type": "code",
      "execution_count": 13,
      "metadata": {},
      "outputs": [],
      "source": [
        "# study function\n",
        "def number_tracks(day,city):\n",
        "    track_list=df[(df['day']==day) & (df['city']==city)]\n",
        "    track_list_count = track_list['userid'].count()\n",
        "    return track_list_count"
      ],
      "id": "a3131df2"
    },
    {
      "cell_type": "code",
      "execution_count": 14,
      "metadata": {},
      "outputs": [
        {
          "output_type": "stream",
          "name": "stdout",
          "text": [
            "15740\n",
            "5614\n",
            "11056\n",
            "7003\n",
            "15945\n",
            "5895"
          ]
        }
      ],
      "source": [
        "# calculation\n",
        "springfield_monday = number_tracks('Monday','Springfield')\n",
        "print(springfield_monday)\n",
        "\n",
        "shelbyville_monday = number_tracks('Monday','Shelbyville')\n",
        "print(shelbyville_monday)\n",
        "\n",
        "springfield_wednesday = number_tracks('Wednesday','Springfield')\n",
        "print(springfield_wednesday)\n",
        "\n",
        "shelbyville_wednesday = number_tracks('Wednesday','Shelbyville')\n",
        "print(shelbyville_wednesday)\n",
        "\n",
        "springfield_friday = number_tracks('Friday','Springfield')\n",
        "print(springfield_friday)\n",
        "\n",
        "shelbyville_friday = number_tracks('Friday','Shelbyville')\n",
        "print(shelbyville_friday)"
      ],
      "id": "c4061ce4"
    },
    {
      "cell_type": "markdown",
      "metadata": {},
      "source": [
        "`{python] # Results table headers=['ciy','monday','wednesday','friday'] results_day_city=[                  ['Springfield',springfield_monday,springfield_wednesday,springfield_friday],                  ['Shelbyville',shelbyville_monday,shelbyville_wednesday,shelbyville_friday] ] df_day_city=pd.DataFrame(data=results_day_city, columns=headers) print(df_day_city)`\n",
        "\n",
        "## Conclusión de la primera hipotesis\n",
        "\n",
        "-   La primera hipótesis el la siguiente: La actividad de los usuarios y\n",
        "    las usuarias difiere según el día de la semana y dependiendo de la\n",
        "    cuidad. Para confirmarse o negarse la hipótesis se creo el Dataframe\n",
        "    de nombre df_day_city del cual podemos concluir lo siguiente:\n",
        "\n",
        "    -   1.Los usuarios de Spingfield escuchas mas canciones en todos los\n",
        "        días de la semana que los usuarios de Shelbyville según los\n",
        "        valores absolutos. Sin embargo de acuerdo a los porentajes se\n",
        "        ven diferencias de aproximadamente un digito siendo los días\n",
        "        lunes y viernes de mayor escucha en Springfield que en\n",
        "        Shelbyville, solo presentandose el caso de ser mayores los\n",
        "        oyenetes según porcentajes en Shelbyville que en Springfield\n",
        "\n",
        "    -   2.En Sprinfield se observa que los días Lunes y viernes se\n",
        "        escuchan casi el mismo número de canciones obsrvandose un\n",
        "        aumento marginal el día viernes respecto al lunes y decayendo el\n",
        "        día miercoles considerablemente\n",
        "\n",
        "    -   3.Caso contrario en Shelbyville, donde se observa el mismo\n",
        "        comportamiento que Springfield los días Lunes y viernes que se\n",
        "        mantienen constantes con un aumento marginal el día viernes\n",
        "        respecto al lunes pero siendo el día miercoles el día en que mas\n",
        "        escuchan música los usuarios de Shelbyville.\n",
        "\n",
        "-   Por lo que podemos decir que la hipotesis es confirmada\n",
        "    parcialmente. Siendo correcta si hablamos del día miercoles,donde en\n",
        "    una ciudad se ve una disminución y en la otra un aumento; E\n",
        "    incorrecta los días lunes y viernes ya que se observa el mismo\n",
        "    comportamiento en ambas ciudades, donde solo hay un aumento marginal\n",
        "    de canciones escuchadas el día viernes respecto al lunes.\n",
        "\n",
        "## Segunda hipotesis\n",
        "\n",
        "Según la segunda hipótesis, el lunes por la mañana y el viernes por la\n",
        "noche, los ciudadanos de Springfield escuchan géneros que difieren de\n",
        "los que disfrutan los usuarios de Shelbyville."
      ],
      "id": "4a833f9f-d4e7-4697-9e0f-661b478808ab"
    },
    {
      "cell_type": "code",
      "execution_count": 15,
      "metadata": {},
      "outputs": [
        {
          "output_type": "stream",
          "name": "stdout",
          "text": [
            "         userid                          track                   artist  \\\n",
            "1      55204538    Delayed Because of Accident         Andreas Rönnberg   \n",
            "4      E2DC1FAE                    Soul People               Space Echo   \n",
            "6      4CB90AA5                           True             Roman Messer   \n",
            "7      F03E1C1F               Feeling This Way          Polina Griffith   \n",
            "8      8FA1D3BE                       L’estate              Julia Dalia   \n",
            "...         ...                            ...                      ...   \n",
            "61247  83A474E7  I Worship Only What You Bleed  The Black Dahlia Murder   \n",
            "61248  729CBB09                        My Name                   McLean   \n",
            "61250  C5E3A0D5                      Jalopiina                  unknown   \n",
            "61251  321D0506                  Freight Train            Chas McDevitt   \n",
            "61252  3A64EF84      Tell Me Sweet Little Lies             Monica Lopez   \n",
            "\n",
            "              genre         city      time        day  \n",
            "1              rock  Springfield  14:07:09     Friday  \n",
            "4             dance  Springfield  08:34:34     Monday  \n",
            "6             dance  Springfield  13:00:07  Wednesday  \n",
            "7             dance  Springfield  20:47:49  Wednesday  \n",
            "8            ruspop  Springfield  09:17:40     Friday  \n",
            "...             ...          ...       ...        ...  \n",
            "61247  extrememetal  Springfield  21:07:12     Monday  \n",
            "61248           rnb  Springfield  13:32:28  Wednesday  \n",
            "61250    industrial  Springfield  20:09:26     Friday  \n",
            "61251          rock  Springfield  21:43:59     Friday  \n",
            "61252       country  Springfield  21:59:46     Friday  \n",
            "\n",
            "[42741 rows x 7 columns]\n",
            "\n",
            "         userid                              track              artist  \\\n",
            "0      FFB692EC                  Kamigata To Boots    The Mass Missile   \n",
            "2        20EC38                  Funiculì funiculà         Mario Lanza   \n",
            "3      A3DD03C9              Dragons in the Sunset          Fire + Ice   \n",
            "5      842029A1                             Chains            Obladaet   \n",
            "9      E772D5C0                          Pessimist             unknown   \n",
            "...         ...                                ...                 ...   \n",
            "61239  D94F810B        Theme from the Walking Dead  Proyecto Halloween   \n",
            "61240  BC8EC5CF       Red Lips: Gta (Rover Rework)               Rover   \n",
            "61241  29E04611                       Bre Petrunko       Perunika Trio   \n",
            "61242  1B91C621             (Hello) Cloud Mountain     sleepmakeswaves   \n",
            "61249  D08D4A55  Maybe One Day (feat. Black Spade)         Blu & Exile   \n",
            "\n",
            "            genre         city      time        day  \n",
            "0            rock  Shelbyville  20:28:33  Wednesday  \n",
            "2             pop  Shelbyville  20:58:07  Wednesday  \n",
            "3            folk  Shelbyville  08:37:09     Monday  \n",
            "5          rusrap  Shelbyville  13:09:41     Friday  \n",
            "9           dance  Shelbyville  21:20:49  Wednesday  \n",
            "...           ...          ...       ...        ...  \n",
            "61239        film  Shelbyville  21:14:40     Monday  \n",
            "61240  electronic  Shelbyville  21:06:50     Monday  \n",
            "61241       world  Shelbyville  13:56:00     Monday  \n",
            "61242    postrock  Shelbyville  09:22:13     Monday  \n",
            "61249      hiphop  Shelbyville  10:00:00     Monday  \n",
            "\n",
            "[18512 rows x 7 columns]"
          ]
        }
      ],
      "source": [
        "#cities separation\n",
        "spr_general=df[df['city']=='Springfield']\n",
        "print(spr_general)\n",
        "print()\n",
        "\n",
        "shel_general=df[df['city']=='Shelbyville']\n",
        "print(shel_general)"
      ],
      "id": "44dec1a2"
    },
    {
      "cell_type": "code",
      "execution_count": 16,
      "metadata": {},
      "outputs": [],
      "source": [
        "#study function\n",
        "def genre_weekday(df,day,time1,time2):\n",
        "    genre_df = df[(df['day']==day) & (df['time']<time2) & (df['time']>time1)]\n",
        "    genre_df_count = genre_df.groupby('genre')['genre'].count()\n",
        "    genre_df_sorted = genre_df_count.sort_values(ascending=False)\n",
        "    return genre_df_sorted[:15]"
      ],
      "id": "d5a41030"
    },
    {
      "cell_type": "code",
      "execution_count": 17,
      "metadata": {},
      "outputs": [
        {
          "output_type": "stream",
          "name": "stdout",
          "text": [
            "genre\n",
            "pop            781\n",
            "dance          549\n",
            "electronic     480\n",
            "rock           474\n",
            "hiphop         286\n",
            "ruspop         186\n",
            "world          181\n",
            "rusrap         175\n",
            "alternative    164\n",
            "unknown        161\n",
            "classical      157\n",
            "metal          120\n",
            "jazz           100\n",
            "folk            97\n",
            "soundtrack      95\n",
            "Name: genre, dtype: int64\n",
            "\n",
            "genre\n",
            "pop            218\n",
            "dance          182\n",
            "rock           162\n",
            "electronic     147\n",
            "hiphop          80\n",
            "ruspop          64\n",
            "alternative     58\n",
            "rusrap          55\n",
            "jazz            44\n",
            "classical       40\n",
            "world           36\n",
            "rap             32\n",
            "soundtrack      31\n",
            "rnb             27\n",
            "metal           27\n",
            "Name: genre, dtype: int64\n",
            "\n",
            "genre\n",
            "pop            713\n",
            "rock           517\n",
            "dance          495\n",
            "electronic     482\n",
            "hiphop         273\n",
            "world          208\n",
            "ruspop         170\n",
            "classical      163\n",
            "alternative    163\n",
            "rusrap         142\n",
            "jazz           111\n",
            "unknown        110\n",
            "soundtrack     105\n",
            "rnb             90\n",
            "metal           88\n",
            "Name: genre, dtype: int64\n",
            "\n",
            "genre\n",
            "pop            256\n",
            "rock           216\n",
            "electronic     216\n",
            "dance          210\n",
            "hiphop          97\n",
            "alternative     63\n",
            "jazz            61\n",
            "classical       60\n",
            "rusrap          59\n",
            "world           54\n",
            "unknown         47\n",
            "ruspop          47\n",
            "soundtrack      40\n",
            "metal           39\n",
            "rap             36\n",
            "Name: genre, dtype: int64"
          ]
        }
      ],
      "source": [
        "# calculations\n",
        "spr_mond_mor=genre_weekday(spr_general,'Monday','07:00:00','11:00:00')\n",
        "print(spr_mond_mor)\n",
        "print()\n",
        "\n",
        "shel_mond_mor=genre_weekday(shel_general,'Monday','07:00:00','11:00:00')\n",
        "print(shel_mond_mor)\n",
        "print()\n",
        "\n",
        "spr_frid_eve=genre_weekday(spr_general,'Friday','17:00:00','23:00:00')\n",
        "print(spr_frid_eve)\n",
        "print()\n",
        "\n",
        "shel_frid_eve=genre_weekday(shel_general,'Friday','17:00:00','23:00:00')\n",
        "print(shel_frid_eve)"
      ],
      "id": "c6f52e23"
    },
    {
      "cell_type": "markdown",
      "metadata": {},
      "source": [
        "## Conclusión de la segunda hipotesis\n",
        "\n",
        "-   La segunda hipótesis a estudiar es: Los lunes por la mañana, los\n",
        "    habitantes de Springfield y Shelbyville escuchan géneros distintos.\n",
        "    Lo mismo ocurre con los viernes por la noche Según los resultados\n",
        "    obtenidos por el segundo estudio de los datos podemos concluir que:\n",
        "\n",
        "-   Aunque los generos no aparecen en el mismo orden, ambas ciudades\n",
        "    escuchan los mismos generos los días lunes por la mañana, existiendo\n",
        "    diferencias minimas sobre los generos que cada ciudad escucha.\n",
        "\n",
        "-   De igual manera. Aunque si bien no aparecen en el mismo orden\n",
        "    podemos ver que los viernes por la tarde los usuarios de ambas\n",
        "    ciudades escuchan los mismos 15 generos musicales\n",
        "\n",
        "-   Por tanto podemos decir que la hipótesis planteadea es incorrecta,\n",
        "    ya que los datos indican que ambas ciudades gustan de escuchar los\n",
        "    mismos generos.\n",
        "\n",
        "## Tercera hipotesis\n",
        "\n",
        "Hipótesis: Shelbyville ama la música rap. A los residentes de\n",
        "Springfield les gusta más el pop."
      ],
      "id": "78c3daaa-1b47-41a9-88f6-1f0b006dc853"
    },
    {
      "cell_type": "code",
      "execution_count": 18,
      "metadata": {},
      "outputs": [
        {
          "output_type": "stream",
          "name": "stdout",
          "text": [
            "genre\n",
            "pop            5892\n",
            "dance          4435\n",
            "rock           3965\n",
            "electronic     3786\n",
            "hiphop         2096\n",
            "classical      1616\n",
            "world          1432\n",
            "alternative    1379\n",
            "ruspop         1372\n",
            "rusrap         1161\n",
            "Name: genre, dtype: int64"
          ]
        }
      ],
      "source": [
        "#study table\n",
        "spr_genres=spr_general.groupby('genre')['genre'].count()\n",
        "spr_genres=spr_genres.sort_values(ascending=False)\n",
        "print(spr_genres.head(10))"
      ],
      "id": "9323dfe2"
    },
    {
      "cell_type": "code",
      "execution_count": 19,
      "metadata": {},
      "outputs": [
        {
          "output_type": "stream",
          "name": "stdout",
          "text": [
            "genre\n",
            "pop            2431\n",
            "dance          1932\n",
            "rock           1879\n",
            "electronic     1736\n",
            "hiphop          960\n",
            "alternative     649\n",
            "classical       646\n",
            "rusrap          564\n",
            "ruspop          538\n",
            "world           515\n",
            "Name: genre, dtype: int64"
          ]
        }
      ],
      "source": [
        "#study table\n",
        "shel_genres=shel_general.groupby('genre')['genre'].count()\n",
        "shel_genres=shel_genres.sort_values(ascending=False)\n",
        "print(shel_genres.head(10))"
      ],
      "id": "395acd31"
    },
    {
      "cell_type": "markdown",
      "metadata": {},
      "source": [
        "## Conclusión de la tercera hipotesis\n",
        "\n",
        "La tercera hipótesis a comprobar es: Los oyentes de Springfield y\n",
        "Shelbyville tienen preferencias distintas. En Springfield prefieren el\n",
        "pop, mientras que en Shelbyville hay más personas a las que les gusta el\n",
        "rap.\n",
        "\n",
        "-   De acuerdo con los resultados obtenidos podemos decir que la\n",
        "    hipótesis es parcialmente correcta ya que:\n",
        "-   El primer lugar de ambas ciudades, es el genero pop, por lo que la\n",
        "    hipotesis es correcta en el caso de Springfield e incorrecta en el\n",
        "    caso de Shelbyville que aseguraba que el genero preferido era rap\n",
        "-   El genero rap no aparece como de los mas escuchados en la lista del\n",
        "    top 10 de Shelbyville concluyendo entonces que la segunda parte de\n",
        "    la hipótesis es incorrecta.\n",
        "\n",
        "# Conclusiones\n",
        "\n",
        "-   1.La actividad de los usuarios y las usuarias difiere según el día\n",
        "    de la semana y dependiendo de la cuidad. Es correcta parcialmente,\n",
        "    ya que en ambas ciudades de observo el mismo comportamiento los días\n",
        "    lunes y viernes observandose un cambio significativo solo los días\n",
        "    miercoles.\n",
        "\n",
        "-   2.Los lunes por la mañana, los habitantes de Springfield y\n",
        "    Shelbyville escuchan géneros distintos. Lo mismo ocurre con los\n",
        "    viernes por la noche. Los resultados arrojaron que ambas ciudades\n",
        "    escuchan los mismos generos en ambos días y momentos por lo que la\n",
        "    hipótesis es incorrecta.\n",
        "\n",
        "-   3.Los oyentes de Springfield y Shelbyville tienen preferencias\n",
        "    distintas. En Springfield prefieren el pop, mientras que en\n",
        "    Shelbyville hay más personas a las que les gusta el rap. La\n",
        "    hipotesis es parcialmente correcta, ya que ambos gustan del pop como\n",
        "    genero principal\n",
        "\n",
        "## Por tomar en cuenta\n",
        "\n",
        "En proyectos de investigación reales, la prueba de hipótesis estadística\n",
        "es más precisa y cuantitativa. También se debe tomar en cuenta que no\n",
        "siempre se pueden sacar conclusiones sobre una ciudad entera a partir de\n",
        "datos de una sola fuente."
      ],
      "id": "a53171d3-0388-4df8-9aa3-f24a5021b7d5"
    }
  ],
  "nbformat": 4,
  "nbformat_minor": 5,
  "metadata": {
    "kernelspec": {
      "name": "python3",
      "display_name": "Python 3 (ipykernel)",
      "language": "python"
    }
  }
}